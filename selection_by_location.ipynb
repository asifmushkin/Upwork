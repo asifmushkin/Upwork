{
 "cells": [
  {
   "cell_type": "markdown",
   "metadata": {},
   "source": [
    "### Selection by location \n",
    "* creating cities feature classes based on cities fall in countries boundries"
   ]
  },
  {
   "cell_type": "code",
   "execution_count": null,
   "metadata": {},
   "outputs": [],
   "source": [
    "import arcpy  # import module\n",
    "\n",
    "arcpy.env.overwriteOutput = 1 # overwrite output set to be true\n",
    "arcpy.env.workspace = r\"D:\\_1.Project\\GIS\\_Tutorials\\Outputs\\New File Geodatabase.gdb\" # output gdb directory\n",
    "\n",
    "cities = r\"D:\\_1.Project\\GIS\\_Tutorials\\Data\\ne_10m_populated_places.shp\" # cities shapefile path\n",
    "countries = r\"D:\\_1.Project\\GIS\\_Tutorials\\Data\\ne_10m_admin_0_countries.shp\" # counries shapefile path\n",
    "cities_lyr = arcpy.MakeFeatureLayer_management(cities, \"cities_layer\") # create cities layer\n",
    "\n",
    "with arcpy.da.SearchCursor(countries, [\"NAME\"]) as cursor: # Use a cursor to iterate over names in the countries shapefile\n",
    "    for row in cursor:\n",
    "        country = row[0]\n",
    "        countries_lyr = arcpy.MakeFeatureLayer_management(countries, \"countries_layer\", \"\"\" \"NAME\" = '{}' \"\"\".format(country)) # Use the country name in the SQL expression\n",
    "        arcpy.SelectLayerByLocation_management(cities_lyr, \"WITHIN\", countries_lyr) # selection by location\n",
    "        arcpy.FeatureClassToFeatureClass_conversion(cities_lyr, arcpy.env.workspace, \"Cities_in_{}\".format(country)) # converting into feature class\n",
    "        arcpy.SelectLayerByAttribute_management(cities_lyr, \"CLEAR_SELECTION\") # Clear the selection on cities_lyr\n",
    "\n",
    "print(\"Successfully completed!!\")"
   ]
  },
  {
   "cell_type": "markdown",
   "metadata": {},
   "source": [
    "### Selection by location \n",
    "* creating cities feature classes based on cities fall in countries boundries, countries list is given."
   ]
  },
  {
   "cell_type": "code",
   "execution_count": null,
   "metadata": {},
   "outputs": [],
   "source": [
    "import arcpy\n",
    "\n",
    "arcpy.env.overwriteOutput = 1\n",
    "arcpy.env.workspace = r\"D:\\_1.Project\\GIS\\_Tutorials\\Outputs\\New File Geodatabase.gdb\"\n",
    "\n",
    "points = r\"D:\\_1.Project\\GIS\\_Tutorials\\Data\\ne_10m_populated_places.shp\"\n",
    "polygon =r\"D:\\_1.Project\\GIS\\_Tutorials\\Data\\ne_10m_admin_0_countries.shp\"\n",
    "\n",
    "point_lyr = arcpy.MakeFeatureLayer_management(points,\"points_layer\")\n",
    "countries_list = [\"India\",\"Iran\",\"Russia\"]\n",
    "\n",
    "for country in countries_list:\n",
    "    polygon_lyr = arcpy.MakeFeatureLayer_management(polygon, \"polygons_layer\", \"\"\" \"NAME\" = '{}' \"\"\".format(country))\n",
    "\n",
    "    arcpy.SelectLayerByLocation_management(point_lyr,\"WITHIN\",\"polygons_layer\")\n",
    "    arcpy.FeatureClassToFeatureClass_conversion(point_lyr,arcpy.env.workspace,\"Cities_in_{}\".format(country))\n",
    "print(\"successfully completed!!\")"
   ]
  }
 ],
 "metadata": {
  "kernelspec": {
   "display_name": "Python 3",
   "language": "python",
   "name": "python3"
  },
  "language_info": {
   "codemirror_mode": {
    "name": "ipython",
    "version": 3
   },
   "file_extension": ".py",
   "mimetype": "text/x-python",
   "name": "python",
   "nbconvert_exporter": "python",
   "pygments_lexer": "ipython3",
   "version": "3.11.2"
  }
 },
 "nbformat": 4,
 "nbformat_minor": 2
}
