{
 "cells": [
  {
   "cell_type": "code",
   "execution_count": null,
   "metadata": {},
   "outputs": [],
   "source": [
    "import os,json,csv\n",
    "\n",
    "def read_json_files(directory_path): # Defining a function that reads json files\n",
    "    json_files = []  # definig empty list to store json files\n",
    "    for filename in os.listdir(directory_path): # Iterate through files in the directory\n",
    "        if filename.endswith(\".json\"): # condition that used to determine json files\n",
    "            file_path = os.path.join(directory_path, filename) # path of json file store in a variable\n",
    "            with open(file_path, 'r') as json_file: # Read JSON file and append its content to the list\n",
    "                data = json.load(json_file)\n",
    "                json_files.append(data)\n",
    "    return json_files\n",
    "\n",
    "def write_to_csv(json_data, csv_filename): # defining a function that use to convert json into csv\n",
    "    fieldnames = list(json_data[0].keys()) if json_data else []  # Assuming all JSON objects have the same structure\n",
    "    with open(csv_filename, 'w', newline='') as csv_file: # Write the data to CSV file\n",
    "        writer = csv.DictWriter(csv_file, fieldnames=fieldnames)\n",
    "        writer.writeheader() # Write header\n",
    "        for row in json_data: # Write data rows\n",
    "            writer.writerow(row) \n",
    "\n",
    "if __name__ == \"__main__\":\n",
    "    directory_path = 'path_directory' # Replace 'directory_path' with the actual path of directory\n",
    "    csv_filename = 'output.csv' # Replace 'output.csv' with the desired CSV file name\n",
    "    json_data = read_json_files(directory_path) # Read JSON files from the directory\n",
    "    write_to_csv(json_data, csv_filename) # Write the data to a CSV file\n"
   ]
  }
 ],
 "metadata": {
  "language_info": {
   "name": "python"
  }
 },
 "nbformat": 4,
 "nbformat_minor": 2
}
